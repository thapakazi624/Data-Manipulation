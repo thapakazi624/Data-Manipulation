{
 "cells": [
  {
   "cell_type": "markdown",
   "id": "071b3745",
   "metadata": {},
   "source": [
    "# Setup"
   ]
  },
  {
   "cell_type": "code",
   "execution_count": 1,
   "id": "ffda22d3",
   "metadata": {},
   "outputs": [],
   "source": [
    "import pandas as pd\n",
    "import numpy as np\n",
    "data_flight = pd.read_csv('fifa.csv', index_col=0)\n"
   ]
  },
  {
   "cell_type": "markdown",
   "id": "743eb4ea",
   "metadata": {},
   "source": [
    "# Summary Functions"
   ]
  },
  {
   "cell_type": "code",
   "execution_count": 3,
   "id": "a11247f3",
   "metadata": {},
   "outputs": [
    {
     "data": {
      "text/plain": [
       "count    286.000000\n",
       "mean       5.454545\n",
       "std        4.012659\n",
       "min        1.000000\n",
       "25%        3.000000\n",
       "50%        5.000000\n",
       "75%        7.000000\n",
       "max       24.000000\n",
       "Name: ARG, dtype: float64"
      ]
     },
     "execution_count": 3,
     "metadata": {},
     "output_type": "execute_result"
    }
   ],
   "source": [
    "# describe method\n",
    "data_flight.ARG.describe()"
   ]
  },
  {
   "cell_type": "code",
   "execution_count": 4,
   "id": "a9f5b75e",
   "metadata": {},
   "outputs": [
    {
     "data": {
      "text/plain": [
       "5.454545454545454"
      ]
     },
     "execution_count": 4,
     "metadata": {},
     "output_type": "execute_result"
    }
   ],
   "source": [
    "data_flight.ARG.mean()"
   ]
  },
  {
   "cell_type": "code",
   "execution_count": 5,
   "id": "843900f1",
   "metadata": {},
   "outputs": [
    {
     "data": {
      "text/plain": [
       "array([ 5., 12.,  9.,  8., 10.,  6.,  7., 15., 24., 22., 17., 19., 18.,\n",
       "       21., 16., 13.,  3.,  2.,  4., 11.,  1.])"
      ]
     },
     "execution_count": 5,
     "metadata": {},
     "output_type": "execute_result"
    }
   ],
   "source": [
    "data_flight.ARG.unique()"
   ]
  },
  {
   "cell_type": "code",
   "execution_count": 6,
   "id": "280b0e3f",
   "metadata": {},
   "outputs": [
    {
     "data": {
      "text/plain": [
       "3.0     53\n",
       "5.0     38\n",
       "2.0     32\n",
       "6.0     26\n",
       "4.0     26\n",
       "1.0     26\n",
       "7.0     23\n",
       "8.0     18\n",
       "9.0     13\n",
       "10.0    12\n",
       "19.0     3\n",
       "13.0     3\n",
       "17.0     3\n",
       "22.0     2\n",
       "11.0     2\n",
       "15.0     1\n",
       "24.0     1\n",
       "12.0     1\n",
       "18.0     1\n",
       "21.0     1\n",
       "16.0     1\n",
       "Name: ARG, dtype: int64"
      ]
     },
     "execution_count": 6,
     "metadata": {},
     "output_type": "execute_result"
    }
   ],
   "source": [
    "data_flight.ARG.value_counts()"
   ]
  },
  {
   "cell_type": "markdown",
   "id": "42131cca",
   "metadata": {},
   "source": [
    "# Map"
   ]
  },
  {
   "cell_type": "code",
   "execution_count": 7,
   "id": "6dff730b",
   "metadata": {},
   "outputs": [
    {
     "data": {
      "text/plain": [
       "Date\n",
       "1993-08-08   -0.454545\n",
       "1993-09-23    6.545455\n",
       "1993-10-22    3.545455\n",
       "1993-11-19    3.545455\n",
       "1993-12-23    2.545455\n",
       "                ...   \n",
       "2018-02-15   -1.454545\n",
       "2018-03-15   -1.454545\n",
       "2018-04-12   -0.454545\n",
       "2018-05-17   -0.454545\n",
       "2018-06-07   -0.454545\n",
       "Name: ARG, Length: 286, dtype: float64"
      ]
     },
     "execution_count": 7,
     "metadata": {},
     "output_type": "execute_result"
    }
   ],
   "source": [
    "ARG_mean = data_flight.ARG.mean()\n",
    "data_flight.ARG.map(lambda p: p -ARG_mean)"
   ]
  },
  {
   "cell_type": "code",
   "execution_count": 8,
   "id": "4ad601db",
   "metadata": {},
   "outputs": [
    {
     "data": {
      "text/html": [
       "<div>\n",
       "<style scoped>\n",
       "    .dataframe tbody tr th:only-of-type {\n",
       "        vertical-align: middle;\n",
       "    }\n",
       "\n",
       "    .dataframe tbody tr th {\n",
       "        vertical-align: top;\n",
       "    }\n",
       "\n",
       "    .dataframe thead th {\n",
       "        text-align: right;\n",
       "    }\n",
       "</style>\n",
       "<table border=\"1\" class=\"dataframe\">\n",
       "  <thead>\n",
       "    <tr style=\"text-align: right;\">\n",
       "      <th></th>\n",
       "      <th>ARG</th>\n",
       "      <th>BRA</th>\n",
       "      <th>ESP</th>\n",
       "      <th>FRA</th>\n",
       "      <th>GER</th>\n",
       "      <th>ITA</th>\n",
       "    </tr>\n",
       "    <tr>\n",
       "      <th>Date</th>\n",
       "      <th></th>\n",
       "      <th></th>\n",
       "      <th></th>\n",
       "      <th></th>\n",
       "      <th></th>\n",
       "      <th></th>\n",
       "    </tr>\n",
       "  </thead>\n",
       "  <tbody>\n",
       "    <tr>\n",
       "      <th>1993-08-08</th>\n",
       "      <td>2.5</td>\n",
       "      <td>8.0</td>\n",
       "      <td>13.0</td>\n",
       "      <td>12.0</td>\n",
       "      <td>1.0</td>\n",
       "      <td>2.0</td>\n",
       "    </tr>\n",
       "    <tr>\n",
       "      <th>1993-09-23</th>\n",
       "      <td>6.0</td>\n",
       "      <td>1.0</td>\n",
       "      <td>14.0</td>\n",
       "      <td>7.0</td>\n",
       "      <td>5.0</td>\n",
       "      <td>2.0</td>\n",
       "    </tr>\n",
       "    <tr>\n",
       "      <th>1993-10-22</th>\n",
       "      <td>4.5</td>\n",
       "      <td>1.0</td>\n",
       "      <td>7.0</td>\n",
       "      <td>14.0</td>\n",
       "      <td>4.0</td>\n",
       "      <td>3.0</td>\n",
       "    </tr>\n",
       "    <tr>\n",
       "      <th>1993-11-19</th>\n",
       "      <td>4.5</td>\n",
       "      <td>4.0</td>\n",
       "      <td>7.0</td>\n",
       "      <td>15.0</td>\n",
       "      <td>3.0</td>\n",
       "      <td>1.0</td>\n",
       "    </tr>\n",
       "    <tr>\n",
       "      <th>1993-12-23</th>\n",
       "      <td>4.0</td>\n",
       "      <td>3.0</td>\n",
       "      <td>5.0</td>\n",
       "      <td>15.0</td>\n",
       "      <td>1.0</td>\n",
       "      <td>2.0</td>\n",
       "    </tr>\n",
       "    <tr>\n",
       "      <th>...</th>\n",
       "      <td>...</td>\n",
       "      <td>...</td>\n",
       "      <td>...</td>\n",
       "      <td>...</td>\n",
       "      <td>...</td>\n",
       "      <td>...</td>\n",
       "    </tr>\n",
       "    <tr>\n",
       "      <th>2018-02-15</th>\n",
       "      <td>2.0</td>\n",
       "      <td>2.0</td>\n",
       "      <td>6.0</td>\n",
       "      <td>9.0</td>\n",
       "      <td>1.0</td>\n",
       "      <td>14.0</td>\n",
       "    </tr>\n",
       "    <tr>\n",
       "      <th>2018-03-15</th>\n",
       "      <td>2.0</td>\n",
       "      <td>2.0</td>\n",
       "      <td>6.0</td>\n",
       "      <td>9.0</td>\n",
       "      <td>1.0</td>\n",
       "      <td>14.0</td>\n",
       "    </tr>\n",
       "    <tr>\n",
       "      <th>2018-04-12</th>\n",
       "      <td>2.5</td>\n",
       "      <td>2.0</td>\n",
       "      <td>8.0</td>\n",
       "      <td>7.0</td>\n",
       "      <td>1.0</td>\n",
       "      <td>20.0</td>\n",
       "    </tr>\n",
       "    <tr>\n",
       "      <th>2018-05-17</th>\n",
       "      <td>2.5</td>\n",
       "      <td>2.0</td>\n",
       "      <td>8.0</td>\n",
       "      <td>7.0</td>\n",
       "      <td>1.0</td>\n",
       "      <td>20.0</td>\n",
       "    </tr>\n",
       "    <tr>\n",
       "      <th>2018-06-07</th>\n",
       "      <td>2.5</td>\n",
       "      <td>2.0</td>\n",
       "      <td>10.0</td>\n",
       "      <td>7.0</td>\n",
       "      <td>1.0</td>\n",
       "      <td>19.0</td>\n",
       "    </tr>\n",
       "  </tbody>\n",
       "</table>\n",
       "<p>286 rows × 6 columns</p>\n",
       "</div>"
      ],
      "text/plain": [
       "            ARG  BRA   ESP   FRA  GER   ITA\n",
       "Date                                       \n",
       "1993-08-08  2.5  8.0  13.0  12.0  1.0   2.0\n",
       "1993-09-23  6.0  1.0  14.0   7.0  5.0   2.0\n",
       "1993-10-22  4.5  1.0   7.0  14.0  4.0   3.0\n",
       "1993-11-19  4.5  4.0   7.0  15.0  3.0   1.0\n",
       "1993-12-23  4.0  3.0   5.0  15.0  1.0   2.0\n",
       "...         ...  ...   ...   ...  ...   ...\n",
       "2018-02-15  2.0  2.0   6.0   9.0  1.0  14.0\n",
       "2018-03-15  2.0  2.0   6.0   9.0  1.0  14.0\n",
       "2018-04-12  2.5  2.0   8.0   7.0  1.0  20.0\n",
       "2018-05-17  2.5  2.0   8.0   7.0  1.0  20.0\n",
       "2018-06-07  2.5  2.0  10.0   7.0  1.0  19.0\n",
       "\n",
       "[286 rows x 6 columns]"
      ]
     },
     "execution_count": 8,
     "metadata": {},
     "output_type": "execute_result"
    }
   ],
   "source": [
    "# applying function\n",
    "def half_val(row):\n",
    "    row.ARG = row.ARG/2\n",
    "    return row\n",
    "\n",
    "data_flight.apply(half_val, axis='columns')"
   ]
  },
  {
   "cell_type": "code",
   "execution_count": null,
   "id": "03b35f65",
   "metadata": {},
   "outputs": [],
   "source": []
  }
 ],
 "metadata": {
  "kernelspec": {
   "display_name": "Python 3 (ipykernel)",
   "language": "python",
   "name": "python3"
  },
  "language_info": {
   "codemirror_mode": {
    "name": "ipython",
    "version": 3
   },
   "file_extension": ".py",
   "mimetype": "text/x-python",
   "name": "python",
   "nbconvert_exporter": "python",
   "pygments_lexer": "ipython3",
   "version": "3.10.0"
  }
 },
 "nbformat": 4,
 "nbformat_minor": 5
}
